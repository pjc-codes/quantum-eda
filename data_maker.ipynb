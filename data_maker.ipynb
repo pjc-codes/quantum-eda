{
 "cells": [
  {
   "cell_type": "code",
   "execution_count": null,
   "id": "7c0c4a4b",
   "metadata": {},
   "outputs": [],
   "source": [
    "import pandas as pd\n",
    "import numpy as np\n",
    "\n",
    "# generate \"messy\" quantum experiment data\n",
    "np.random.seed(42)\n",
    "n = 1000  # number of rows to generate\n",
    "\n",
    "# create DataFrame with some \"quantum\" measurements\n",
    "data = {\n",
    "    'experiment_id': np.repeat(range(1, 6), n//5),\n",
    "    'qubit_count': np.random.choice([2, 3, 5, 7, 10], n),\n",
    "    'fidelity': np.random.normal(0.85, 0.12, n),\n",
    "    'coherence_time_us': np.random.exponential(50, n),\n",
    "    'gate_error_rate': np.random.normal(0.03, 0.01, n),\n",
    "    'temperature_k': np.random.normal(0.015, 0.005, n),\n",
    "    'measurement_method': np.random.choice(['direct', 'tomography', 'randomized'], n)\n",
    "}\n",
    "\n",
    "df = pd.DataFrame(data)\n",
    "\n",
    "# adding missing values randomly\n",
    "for col in ['fidelity', 'coherence_time_us', 'gate_error_rate']:\n",
    "    mask = np.random.random(n) < 0.1\n",
    "    df.loc[mask, col] = np.nan\n",
    "\n",
    "# adding outliers\n",
    "outlier_idx = np.random.choice(range(n), 20, replace=False)\n",
    "df.loc[outlier_idx, 'fidelity'] = np.random.uniform(1.2, 1.5, len(outlier_idx))\n",
    "df.loc[outlier_idx, 'gate_error_rate'] = np.random.uniform(\n",
    "    0.2, 0.3, len(outlier_idx))\n",
    "\n",
    "# saving to CSV\n",
    "\n",
    "df.to_csv('quantum_data.csv', index=False)"
   ]
  },
  {
   "cell_type": "code",
   "execution_count": null,
   "id": "e40be321",
   "metadata": {},
   "outputs": [],
   "source": []
  }
 ],
 "metadata": {
  "kernelspec": {
   "display_name": "Python 3",
   "language": "python",
   "name": "python3"
  },
  "language_info": {
   "codemirror_mode": {
    "name": "ipython",
    "version": 3
   },
   "file_extension": ".py",
   "mimetype": "text/x-python",
   "name": "python",
   "nbconvert_exporter": "python",
   "pygments_lexer": "ipython3",
   "version": "3.13.1"
  }
 },
 "nbformat": 4,
 "nbformat_minor": 5
}
